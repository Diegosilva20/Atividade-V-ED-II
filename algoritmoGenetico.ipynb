{
  "nbformat": 4,
  "nbformat_minor": 0,
  "metadata": {
    "colab": {
      "provenance": [],
      "authorship_tag": "ABX9TyNDFu3+qprXoU9d6+yZUTQm",
      "include_colab_link": true
    },
    "kernelspec": {
      "name": "python3",
      "display_name": "Python 3"
    },
    "language_info": {
      "name": "python"
    }
  },
  "cells": [
    {
      "cell_type": "markdown",
      "metadata": {
        "id": "view-in-github",
        "colab_type": "text"
      },
      "source": [
        "<a href=\"https://colab.research.google.com/github/Diegosilva20/Atividade-V-ED-II/blob/main/algoritmoGenetico.ipynb\" target=\"_parent\"><img src=\"https://colab.research.google.com/assets/colab-badge.svg\" alt=\"Open In Colab\"/></a>"
      ]
    },
    {
      "cell_type": "code",
      "execution_count": 3,
      "metadata": {
        "colab": {
          "base_uri": "https://localhost:8080/"
        },
        "id": "oozOKtOyeaPE",
        "outputId": "866e6bea-c134-4fa3-ea73-3a774ad2bef3"
      },
      "outputs": [
        {
          "output_type": "stream",
          "name": "stdout",
          "text": [
            "Collecting deap\n",
            "  Downloading deap-1.4.1-cp310-cp310-manylinux_2_5_x86_64.manylinux1_x86_64.manylinux_2_17_x86_64.manylinux2014_x86_64.whl.metadata (13 kB)\n",
            "Requirement already satisfied: numpy in /usr/local/lib/python3.10/dist-packages (from deap) (1.26.4)\n",
            "Downloading deap-1.4.1-cp310-cp310-manylinux_2_5_x86_64.manylinux1_x86_64.manylinux_2_17_x86_64.manylinux2014_x86_64.whl (135 kB)\n",
            "\u001b[2K   \u001b[90m━━━━━━━━━━━━━━━━━━━━━━━━━━━━━━━━━━━━━━━━\u001b[0m \u001b[32m135.4/135.4 kB\u001b[0m \u001b[31m2.9 MB/s\u001b[0m eta \u001b[36m0:00:00\u001b[0m\n",
            "\u001b[?25hInstalling collected packages: deap\n",
            "Successfully installed deap-1.4.1\n"
          ]
        }
      ],
      "source": [
        "pip install deap"
      ]
    },
    {
      "cell_type": "code",
      "source": [
        "from deap import creator, base, tools, algorithms"
      ],
      "metadata": {
        "id": "06IgIOVAf_yX"
      },
      "execution_count": 4,
      "outputs": []
    },
    {
      "cell_type": "code",
      "source": [
        "import numpy as np"
      ],
      "metadata": {
        "id": "EBz5dPLUgiHl"
      },
      "execution_count": 5,
      "outputs": []
    },
    {
      "cell_type": "code",
      "source": [
        "toolbox = base.Toolbox();\n",
        "n = 4\n",
        "creator.create(\"FitnessMin\", base.Fitness, weights=(-1.0,))\n",
        "creator.create(\"EstrInduviduo\", list, fitness =  creator.FitnessMin)\n",
        "\n",
        "toolbox.register(\"Genes\", np.random.permutation, n)\n",
        "toolbox.register(\"Individuos\", tools.initIterate, creator.EstrInduviduo, toolbox.Genes)"
      ],
      "metadata": {
        "id": "62jzUFB5g2ue"
      },
      "execution_count": 6,
      "outputs": []
    },
    {
      "cell_type": "code",
      "source": [
        "toolbox.register(\"Populacao\", tools.initRepeat, list, toolbox.Individuos)"
      ],
      "metadata": {
        "id": "pm5F4znij0hY"
      },
      "execution_count": 7,
      "outputs": []
    },
    {
      "cell_type": "code",
      "source": [
        "pop = toolbox.Populacao(n = 10)"
      ],
      "metadata": {
        "id": "1mjkRdRwkB0M"
      },
      "execution_count": 8,
      "outputs": []
    },
    {
      "cell_type": "code",
      "source": [
        "dist = [[0,7,9,2],[4,0,3,7],[6,7,0,8],[2,3,8,0]]"
      ],
      "metadata": {
        "id": "PWeyVaHNxHjr"
      },
      "execution_count": 1,
      "outputs": []
    },
    {
      "cell_type": "code",
      "source": [
        "def aptidao(individuo):\n",
        "  f = 0\n",
        "  for i in range(n-1):\n",
        "    local1 = individuo[i]\n",
        "    local2 = individuo[i+1]\n",
        "    f = f + dist[local1][local2]\n",
        "\n",
        "  return f,"
      ],
      "metadata": {
        "id": "KPNSaOqc0XDD"
      },
      "execution_count": 10,
      "outputs": []
    },
    {
      "cell_type": "code",
      "source": [
        "toolbox.register(\"evaluate\", aptidao)"
      ],
      "metadata": {
        "id": "jw1_ESJx3qC6"
      },
      "execution_count": 11,
      "outputs": []
    },
    {
      "cell_type": "code",
      "source": [
        "toolbox.register(\"select\", tools.selTournament, tournsize = 2)"
      ],
      "metadata": {
        "id": "I1hIK5Lj31LT"
      },
      "execution_count": 13,
      "outputs": []
    },
    {
      "cell_type": "code",
      "source": [
        "toolbox.register(\"mate\",tools.cxPartialyMatched)"
      ],
      "metadata": {
        "id": "sRgw6eKF4rVY"
      },
      "execution_count": 14,
      "outputs": []
    },
    {
      "cell_type": "code",
      "source": [
        "toolbox.register(\"mutate\", tools.mutShuffleIndexes, indpb = 0.1)"
      ],
      "metadata": {
        "id": "W9rxi5nx4OCt"
      },
      "execution_count": 15,
      "outputs": []
    },
    {
      "cell_type": "code",
      "source": [
        "hof = tools.HallOfFame(1)"
      ],
      "metadata": {
        "id": "EG7WHxq57fvd"
      },
      "execution_count": 16,
      "outputs": []
    },
    {
      "cell_type": "code",
      "source": [
        "resutl, log = algorithms.eaSimple(pop, toolbox, cxpb = 0.8, mutpb = 0.1, ngen = 30,  halloffame= hof, verbose = True)"
      ],
      "metadata": {
        "colab": {
          "base_uri": "https://localhost:8080/"
        },
        "id": "R-Piwyyk7tE5",
        "outputId": "fc30591d-11b7-4c78-ba00-f73c7d623e1e"
      },
      "execution_count": 19,
      "outputs": [
        {
          "output_type": "stream",
          "name": "stdout",
          "text": [
            "gen\tnevals\n",
            "0  \t10    \n",
            "1  \t4     \n",
            "2  \t9     \n",
            "3  \t8     \n",
            "4  \t10    \n",
            "5  \t9     \n",
            "6  \t8     \n",
            "7  \t10    \n",
            "8  \t7     \n",
            "9  \t6     \n",
            "10 \t6     \n",
            "11 \t6     \n",
            "12 \t8     \n",
            "13 \t8     \n",
            "14 \t10    \n",
            "15 \t9     \n",
            "16 \t9     \n",
            "17 \t6     \n",
            "18 \t8     \n",
            "19 \t10    \n",
            "20 \t10    \n",
            "21 \t10    \n",
            "22 \t10    \n",
            "23 \t10    \n",
            "24 \t10    \n",
            "25 \t6     \n",
            "26 \t8     \n",
            "27 \t10    \n",
            "28 \t10    \n",
            "29 \t6     \n",
            "30 \t10    \n"
          ]
        }
      ]
    },
    {
      "cell_type": "code",
      "source": [
        "print(hof)"
      ],
      "metadata": {
        "colab": {
          "base_uri": "https://localhost:8080/"
        },
        "id": "l97zv1In9ncq",
        "outputId": "277e581a-82b9-4971-dc75-0e62d8f86473"
      },
      "execution_count": 28,
      "outputs": [
        {
          "output_type": "stream",
          "name": "stdout",
          "text": [
            "[[3, 1, 2, 0]]\n"
          ]
        }
      ]
    },
    {
      "cell_type": "code",
      "source": [
        "print(aptidao(hof[0]))"
      ],
      "metadata": {
        "colab": {
          "base_uri": "https://localhost:8080/"
        },
        "id": "1jhtYdsk-DZl",
        "outputId": "8da9f17e-2466-4929-cf2d-1f9d5a2a8ae7"
      },
      "execution_count": 29,
      "outputs": [
        {
          "output_type": "stream",
          "name": "stdout",
          "text": [
            "(12,)\n"
          ]
        }
      ]
    }
  ]
}